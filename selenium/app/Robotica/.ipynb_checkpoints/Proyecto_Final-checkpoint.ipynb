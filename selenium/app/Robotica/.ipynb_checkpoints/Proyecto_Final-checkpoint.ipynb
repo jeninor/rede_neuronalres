{
  "nbformat": 4,
  "nbformat_minor": 0,
  "metadata": {
    "colab": {
      "provenance": []
    },
    "kernelspec": {
      "name": "python3",
      "display_name": "Python 3"
    },
    "language_info": {
      "name": "python"
    }
  },
  "cells": [
    {
      "cell_type": "code",
      "execution_count": 1,
      "metadata": {
        "colab": {
          "base_uri": "https://localhost:8080/"
        },
        "id": "sfS395VfxoXn",
        "outputId": "f5f6b7f0-3214-469e-9214-3e3a0034fd13",
        "collapsed": true
      },
      "outputs": [
        {
          "output_type": "stream",
          "name": "stdout",
          "text": [
            "Collecting coppeliasim-zmqremoteapi-client\n",
            "  Downloading coppeliasim_zmqremoteapi_client-2.0.4-py3-none-any.whl.metadata (2.4 kB)\n",
            "Collecting cbor (from coppeliasim-zmqremoteapi-client)\n",
            "  Downloading cbor-1.0.0.tar.gz (20 kB)\n",
            "  Preparing metadata (setup.py) ... \u001b[?25l\u001b[?25hdone\n",
            "Requirement already satisfied: pyzmq in /usr/local/lib/python3.11/dist-packages (from coppeliasim-zmqremoteapi-client) (24.0.1)\n",
            "Downloading coppeliasim_zmqremoteapi_client-2.0.4-py3-none-any.whl (9.4 kB)\n",
            "Building wheels for collected packages: cbor\n",
            "  Building wheel for cbor (setup.py) ... \u001b[?25l\u001b[?25hdone\n",
            "  Created wheel for cbor: filename=cbor-1.0.0-cp311-cp311-linux_x86_64.whl size=53930 sha256=8319d4e43daa5258f345811c49f1f17be8436e253fc727a70d0a482c63db1bb4\n",
            "  Stored in directory: /root/.cache/pip/wheels/21/6b/45/0c34253b1af07d1d9dc524f6d44d74a6b191c43152e6aaf641\n",
            "Successfully built cbor\n",
            "Installing collected packages: cbor, coppeliasim-zmqremoteapi-client\n",
            "Successfully installed cbor-1.0.0 coppeliasim-zmqremoteapi-client-2.0.4\n"
          ]
        }
      ],
      "source": [
        "!pip install coppeliasim-zmqremoteapi-client\n"
      ]
    },
    {
      "cell_type": "code",
      "source": [
        "from coppeliasim_zmqremoteapi_client import RemoteAPIClient\n",
        "\n",
        "# Dirección del túnel ngrok\n",
        "host = '0.tcp.sa.ngrok.io'\n",
        "port = 10048  # Este es el puerto que te dio ngrok\n",
        "\n",
        "try:\n",
        "    client = RemoteAPIClient(host, port)\n",
        "    sim = client.getObject('sim')\n",
        "    print(\"✅ Conectado a CoppeliaSim vía ZMQ + ngrok\")\n",
        "except Exception as e:\n",
        "    print(f\"❌ Error al conectar: {e}\")"
      ],
      "metadata": {
        "colab": {
          "base_uri": "https://localhost:8080/"
        },
        "id": "01ry9Ja3x-nd",
        "outputId": "d1065546-d27c-4e04-b3fc-b3e312dfd4a8"
      },
      "execution_count": 3,
      "outputs": [
        {
          "output_type": "stream",
          "name": "stdout",
          "text": [
            "✅ Conectado a CoppeliaSim vía ZMQ + ngrok\n"
          ]
        }
      ]
    },
    {
      "cell_type": "markdown",
      "source": [
        "**Atividade Prática – Geração de Trajetória Linear e Controle de Manipuladores no CopeliaSim**\n",
        "\n",
        "**Descrição Geral:**\n",
        "\n",
        "Nesta atividade, o estudante deverá desenvolver um código de controle para um manipulador robótico, com o objetivo de gerar uma trajetória linear no espaço cartesiano, partindo de um ponto A até um ponto B, utilizando uma estratégia de controle de movimento específica e um tipo de manipulador definido conforme as regras abaixo. O robô será simulado no ambiente **CopeliaSim**."
      ],
      "metadata": {
        "id": "C9k278RG9d0r"
      }
    },
    {
      "cell_type": "markdown",
      "source": [
        "**1. Definição do Manipulador:**\n",
        "\n",
        "A seleção será feita conforme a seguinte regra:\n",
        "\n",
        "*   Considere sua matrícula composta por seis dígitos: RSTXYZ.\n",
        "*   Calcule: Resto de divisão inteira da matrícula por 3: Matrícula % 3.\n",
        "*   Resultado:\n",
        "\n",
        "   0 → SCARA\n",
        "\n",
        "   1 → Cilíndrico\n",
        "\n",
        "   2 → Esférico ou Polar\n",
        "\n",
        "\n"
      ],
      "metadata": {
        "id": "skagYQAs94a7"
      }
    },
    {
      "cell_type": "markdown",
      "source": [
        "Matrícula: 98225\n",
        "\n",
        "Transformamos para 6 dígitos: 098225\n",
        "\n",
        "Calculamos:\n",
        "\n",
        "098225 % 3 = 2\n",
        "\n",
        "🔹 Resultado 2 → Manipulador Esférico ou Polar"
      ],
      "metadata": {
        "id": "xxM1SL3R-BSq"
      }
    },
    {
      "cell_type": "markdown",
      "source": [
        "**2. Estratégia de Geração de Trajetória:**\n",
        "\n",
        "Se Z for par → Tempo mínimo (bang-bang).\n",
        "\n",
        "Se Z for ímpar → Polinomial de 3ª ordem.\n",
        "\n",
        "O tempo total destinado para execução da trajetória será dado pela soma dos dígitos da matrícula.\n",
        " Matrícula: 072943\n",
        "\n",
        " Tempo total: 0+7+2+9+4+3 = 25s"
      ],
      "metadata": {
        "id": "IqkQxlUb-PFb"
      }
    },
    {
      "cell_type": "markdown",
      "source": [
        "Dígito Z é o último da matrícula: 5\n",
        "\n",
        "Como 5 é ímpar, a estratégia será:\n",
        "\n",
        "🔹 Trajetória polinomial de 3ª ordem\n",
        "\n",
        "Tempo total da trajetória = soma dos dígitos:\n",
        "\n",
        "0 + 9 + 8 + 2 + 2 + 5 = 26 segundos"
      ],
      "metadata": {
        "id": "bggwZQ9R-axS"
      }
    },
    {
      "cell_type": "markdown",
      "source": [
        "**3. Pontos de Partida e Chegada:**\n",
        "\n",
        "*   Partida: [-0.5, -0.5, 0.5] m.\n",
        "*   Chegada: [0.5, 0.5, 1.5] m.\n",
        "*   Para cada componente, se o dígito correspondente for par, soma-se 0.25, caso contrário, subtrai-se 0.25.\n",
        "*   NOTA: Caso o ponto de partida, de chegada ou mesmo algum ponto da trajetória de referência apresente alguma restrição quando o movimento do efetuador, por exemplo, colisão com o corpo do robô ou se localizar fora do espaço de trabalho do manipulador, faça a adequação necessária e informe o motivo da alteração.\n",
        "\n",
        "**Exemplo:**\n",
        "\n",
        "Matrícula: 072943\n",
        "\n",
        "*  Ponto A = [-0.5, -0.5, 0.5] + [0.25, -0.25, 0.25] → [-0.25, -0.75, 0.75]\n",
        "*  Ponto B = [0.5, 0.5, 1.5] + [-0.25, 0.25, -0.25] → [0.25, 0.75, 1.25]"
      ],
      "metadata": {
        "id": "VmdXVQfvA196"
      }
    },
    {
      "cell_type": "markdown",
      "source": [
        "**Referência original:**\n",
        "\n",
        "*  Partida: [-0.5, -0.5, 0.5]\n",
        "*  Chegada: [0.5, 0.5, 1.5]\n",
        "\n",
        "Vamos aplicar a regra dos dígitos para ajustar:\n",
        "\n",
        "| Componente   | Dígito | Par/Ímpar | Ajuste |\n",
        "| ------------ | ------ | --------- | ------ |\n",
        "| x1 (Partida) | 0      | Par       | +0.25  |\n",
        "| y1           | 9      | Ímpar     | -0.25  |\n",
        "| z1           | 8      | Par       | +0.25  |\n",
        "| x2 (Chegada) | 2      | Par       | +0.25  |\n",
        "| y2           | 2      | Par       | +0.25  |\n",
        "| z2           | 5      | Ímpar     | -0.25  |\n",
        "\n",
        "🔹 Ponto de partida ajustado:\n",
        "\n",
        "[-0.5, -0.5, 0.5] + [0.25, -0.25, 0.25]\n",
        "= [-0.25, -0.75, 0.75] m\n",
        "\n",
        "🔹 Ponto de chegada ajustado:\n",
        "\n",
        "[0.5, 0.5, 1.5] + [0.25, 0.25, -0.25]\n",
        "= [0.75, 0.75, 1.25] m"
      ],
      "metadata": {
        "id": "_A8lBDBQBcdU"
      }
    },
    {
      "cell_type": "markdown",
      "source": [
        " Resumo Final para a Matrícula ES98225 (098225)\n",
        "Manipulador: Esférico/Polar\n",
        "\n",
        "Tipo de trajetória: Polinomial de 3ª ordem\n",
        "\n",
        "Tempo total: 26 segundos\n",
        "\n",
        "Ponto de partida: [-0.25, -0.75, 0.75]\n",
        "\n",
        "Ponto de chegada: [0.75, 0.75, 1.25]"
      ],
      "metadata": {
        "id": "yh-AXbsD6xzp"
      }
    },
    {
      "cell_type": "markdown",
      "source": [
        "4. Tarefas do Estudante:"
      ],
      "metadata": {
        "id": "BL3e2D5j8ipn"
      }
    },
    {
      "cell_type": "markdown",
      "source": [
        "*   Calcular o alcance máximo e mínimo do manipulador, representando graficamente.\n"
      ],
      "metadata": {
        "id": "5G2XuSJB9mo2"
      }
    },
    {
      "cell_type": "code",
      "source": [
        "from coppeliasim_zmqremoteapi_client import RemoteAPIClient\n",
        "import time\n",
        "import math\n",
        "import numpy as np\n",
        "import matplotlib.pyplot as plt\n",
        "\n",
        "def connect_to_coppeliasim():\n",
        "    client = RemoteAPIClient(host, port)\n",
        "    sim = client.getObject('sim')\n",
        "    print('[SUCCESS] Conectado ao CoppeliaSim')\n",
        "    return sim\n",
        "\n",
        "def get_mtb_axes(sim):\n",
        "    axes = {\n",
        "        'axis1': sim.getObject('/Manipulador/axis1'),  # Rotativo base\n",
        "        'axis2': sim.getObject('/Manipulador/axis2'),  # Rotativo plano vertical\n",
        "        'axis3': sim.getObject('/Manipulador/axis3'),  # Linear (alongamento)\n",
        "    }\n",
        "    return axes\n",
        "\n",
        "def generate_workspace(sim, axes, tcp_handle):\n",
        "    print('[INFO] Iniciando varredura da área de trabalho...')\n",
        "\n",
        "    theta1_range = np.radians(np.linspace(-180, 180, 10))  # junta\n",
        "    theta2_range = np.radians(np.linspace(0, 90, 10))  # junta\n",
        "    d3_range = np.linspace(0.0, 0.4, 10)                   # linear\n",
        "\n",
        "    points = []\n",
        "\n",
        "    total = len(theta1_range) * len(theta2_range) * len(d3_range)\n",
        "    count = 0\n",
        "\n",
        "    for t1 in theta1_range:\n",
        "        for t2 in theta2_range:\n",
        "            for d3 in d3_range:\n",
        "                # Comando de posição\n",
        "                sim.setJointTargetPosition(axes['axis1'], t1)\n",
        "                sim.setJointTargetPosition(axes['axis2'], t2)\n",
        "                sim.setJointTargetPosition(axes['axis3'], d3)\n",
        "                time.sleep(0.02)\n",
        "\n",
        "                # Leitura real da posição do TCP\n",
        "                pose = sim.getObjectPose(tcp_handle, -1)\n",
        "                position = pose[:3]\n",
        "                points.append(position)\n",
        "\n",
        "                count += 1\n",
        "                if count % 100 == 0:\n",
        "                    print(f'  - {count}/{total} pontos coletados...')\n",
        "\n",
        "    return np.array(points)\n",
        "\n",
        "def plot_workspace(points):\n",
        "    fig = plt.figure()\n",
        "    ax = fig.add_subplot(111, projection='3d')\n",
        "    ax.scatter(points[:, 0], points[:, 1], points[:, 2], s=1, alpha=0.5, c='blue')\n",
        "    ax.set_xlabel('X (m)')\n",
        "    ax.set_ylabel('Y (m)')\n",
        "    ax.set_zlabel('Z (m)')\n",
        "    ax.set_title('Área de Trabalho - Leitura Real do TCP')\n",
        "    plt.tight_layout()\n",
        "    plt.show()\n",
        "\n",
        "def main():\n",
        "    sim = connect_to_coppeliasim()\n",
        "    scene_path = '/home/usuario/compartilhado/Robotica/Esferico.ttt'\n",
        "    result = sim.loadScene(scene_path)\n",
        "    if result == 0:\n",
        "        raise RuntimeError(\"Erro ao carregar a cena.\")\n",
        "    print(\"[SUCCESS] Manipulador carregado com sucesso.\")\n",
        "\n",
        "    sim.startSimulation()\n",
        "    time.sleep(0.5)\n",
        "\n",
        "    axes = get_mtb_axes(sim)\n",
        "    tcp_handle = sim.getObject('/Manipulador/axis4')\n",
        "\n",
        "    points = generate_workspace(sim, axes, tcp_handle)\n",
        "    plot_workspace(points)\n",
        "\n",
        "    sim.stopSimulation()\n",
        "    print('[DONE] Simulação finalizada.')\n",
        "\n",
        "if __name__ == \"__main__\":\n",
        "    main()\n"
      ],
      "metadata": {
        "id": "fSrEcrbTzeOK",
        "colab": {
          "base_uri": "https://localhost:8080/"
        },
        "outputId": "e352e933-7287-4a0f-b00a-19d68ee78157"
      },
      "execution_count": null,
      "outputs": [
        {
          "output_type": "stream",
          "name": "stdout",
          "text": [
            "[SUCCESS] Conectado ao CoppeliaSim\n",
            "[SUCCESS] Manipulador carregado com sucesso.\n",
            "[INFO] Iniciando varredura da área de trabalho...\n",
            "  - 100/1000 pontos coletados...\n",
            "  - 200/1000 pontos coletados...\n"
          ]
        }
      ]
    },
    {
      "cell_type": "markdown",
      "source": [],
      "metadata": {
        "id": "WJP6x2m1xrL3"
      }
    }
  ]
}