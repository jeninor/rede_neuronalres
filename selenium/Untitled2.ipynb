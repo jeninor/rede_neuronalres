{
 "cells": [
  {
   "cell_type": "code",
   "execution_count": 1,
   "id": "c48ffac9-e0b9-4064-a197-39a9f59b3872",
   "metadata": {},
   "outputs": [],
   "source": [
    "\n",
    "from selenium import webdriver\n",
    "from selenium.webdriver.common.by import By\n",
    "from selenium.webdriver.common.keys import Keys\n",
    "from selenium.webdriver.common.action_chains import ActionChains\n",
    "from PIL import Image, ImageChops\n",
    "from reportlab.pdfgen import canvas\n",
    "from reportlab.lib.utils import ImageReader\n",
    "import os\n",
    "import time\n",
    "from io import BytesIO\n",
    "from selenium.webdriver.chrome.options import Options\n",
    "\n",
    "def imagens_sao_iguais(img1_path, img2_path):\n",
    "    img1 = Image.open(img1_path)\n",
    "    img2 = Image.open(img2_path)\n",
    "    diff = ImageChops.difference(img1, img2)\n",
    "    return not diff.getbbox()\n",
    "\n",
    "# Lista de URLs\n",
    "urls = [\n",
    "    \"https://docs.google.com/presentation/d/e/2PACX-1vTvXJYylSHdHrwHVUnQU5pHFT6rt30dpTnOV4e5dFWejpReW220vReQjStqJMwurpocVEkjbJPSmJ85/pub?start=false&loop=false&delayms=3000&slide=id.p1\",\n",
    "    \"https://docs.google.com/presentation/d/e/2PACX-1vR3KFsz_MHgjry3eaVsyUOgzhmEx1uxTog7trcQXX1qJIjiO45MxKenXULTRlWSnkB3W8qsnf6xkWw9/pub?start=false&loop=false&delayms=3000&slide=id.p1\",\n",
    "    \"https://docs.google.com/presentation/d/e/2PACX-1vTYbRbcLUQ-4rlzVdBNgzVn4ByyuzN1USnLEEGyeXZluawjc4nezyo2waCjtNJSMarm8xLq7-5kE4Gr/pub?start=false&loop=false&delayms=3000&slide=id.p1\",\n",
    "    \"https://docs.google.com/presentation/d/e/2PACX-1vTMOmnWs-rIj8O8QhBqseBS1jdL__6S-hD8mwiXfZp9m0QpWQQhNx9bVdnNBraODMU5J7Xt_ruQY93K/pub?start=false&loop=false&delayms=3000&slide=id.p1\",\n",
    "    \"https://docs.google.com/presentation/d/e/2PACX-1vT96QAvKY4qd99aASG9gi7A_L932O3Es6rj5Yk_2pAnZqnEwN-6OTF4qtX4OcBOmHNDc-y3JMF5nH6B/pub?start=false&loop=false&delayms=3000&slide=id.p1\",\n",
    "    \"https://docs.google.com/presentation/d/e/2PACX-1vRmkAXoOrihmTuikL2tZtZVnLb98C0-I4Jbr4Xa12bLE2C_tb7cicCeO8vIWjYPtBWCxVcmdJThNSOi/pub?start=false&loop=false&delayms=3000&slide=id.p1\",\n",
    "    \"https://docs.google.com/presentation/d/e/2PACX-1vRRXE0szDHt4zj36-sguNSYMpH2oI5XmSnBDBmSA2tHoJ_8advd-yDxk7Nm6yijlT7yKaGEMExPUsBO/pub?start=false&loop=false&delayms=3000&slide=id.p1\",\n",
    "    \"https://docs.google.com/presentation/d/e/2PACX-1vTs7yrTkOXtyKh_DH_3XdTQWzgDyhj6RA9wOykBH6rJo2xUUNayDLYYGD07mQWd3Tchk7pBL007C9IP/pub?start=false&loop=false&delayms=3000&slide=id.p1\",\n",
    "    \"https://docs.google.com/presentation/d/e/2PACX-1vRsKsGIYXF09ku4d9xdNvovuimXBuQOYixWvF8lXKu8l8wNQns0QjA98q599zNH2X1lnhc4VR76GLLz/pub?start=false&loop=false&delayms=3000&slide=id.p1\",\n",
    "    \"https://docs.google.com/presentation/d/e/2PACX-1vRCg2-aNbODXXHYAPuENzRITvqkCAPEYGe-10Nrky3L7Nd0UDTQyt2YhhzX-Zc0Hz4dL2gmIGCRCz1b/pub?start=false&loop=false&delayms=3000&slide=id.p1\",\n",
    "    \"https://docs.google.com/presentation/d/e/2PACX-1vRAFA0ibw3RNxp5oQxTZtB5-N2hfCQLFriEJ1x3Tl2x_110S0b4ZBsAtPOWtQuAD8QKY4K38Kt7GX7u/pub?start=false&loop=false&delayms=3000&slide=id.p1\",\n",
    "    \"https://docs.google.com/presentation/d/e/2PACX-1vSOhmQHNVl2GLbYOYjb0McD5mv0e2Ch3z8V2R4YnVWKnPSmPwAa6BPRWhIgZGmpaJTeWVHa5aaWVqIG/pub?start=false&loop=false&delayms=3000&slide=id.p1\"\n",
    "]\n",
    "\n",
    "\n",
    "\n"
   ]
  },
  {
   "cell_type": "code",
   "execution_count": 2,
   "id": "a2dd02d9-2015-4491-8cfa-99e426730272",
   "metadata": {},
   "outputs": [],
   "source": [
    "# Configurações do Chrome\n",
    "chrome_options = Options()\n",
    "chrome_options.add_argument(\"--start-maximized\")\n",
    "chrome_options.add_argument(\"--disable-infobars\")\n",
    "chrome_options.add_argument(\"--disable-extensions\")\n",
    "#chrome_options.add_argument(f\"--user-data-dir={chrome_user_data}\")  # já logado\n",
    "\n",
    "# Iniciar WebDriver\n",
    "#driver.set_window_size(1920, 1080)  # Ou até maior\n",
    "driver = webdriver.Chrome(options=chrome_options)"
   ]
  },
  {
   "cell_type": "code",
   "execution_count": 3,
   "id": "6602ce43-e33c-4485-922a-fc837ef96715",
   "metadata": {},
   "outputs": [],
   "source": [
    "url = \"https://docs.google.com/presentation/d/e/2PACX-1vTvXJYylSHdHrwHVUnQU5pHFT6rt30dpTnOV4e5dFWejpReW220vReQjStqJMwurpocVEkjbJPSmJ85/pub?start=false&loop=false&delayms=3000&slide=id.p1\"\n",
    "driver.get(url)"
   ]
  },
  {
   "cell_type": "code",
   "execution_count": null,
   "id": "5b70c341-bbda-4710-b4bd-533cd3d93def",
   "metadata": {},
   "outputs": [
    {
     "name": "stdout",
     "output_type": "stream",
     "text": [
      "✅ Capturado: slides_01/slide_01.png\n",
      "✅ Capturado: slides_01/slide_02.png\n",
      "✅ Capturado: slides_01/slide_03.png\n",
      "✅ Capturado: slides_01/slide_04.png\n",
      "✅ Capturado: slides_01/slide_05.png\n",
      "✅ Capturado: slides_01/slide_06.png\n",
      "✅ Capturado: slides_01/slide_07.png\n",
      "✅ Capturado: slides_01/slide_08.png\n",
      "✅ Capturado: slides_01/slide_09.png\n",
      "✅ Capturado: slides_01/slide_10.png\n",
      "✅ Capturado: slides_01/slide_11.png\n"
     ]
    }
   ],
   "source": [
    "for idx, url in enumerate(urls, start=1):\n",
    "    driver.get(url)\n",
    "    time.sleep(2)\n",
    "    folder = f\"slides_{idx:02}\"\n",
    "    os.makedirs(folder, exist_ok=True)\n",
    "    actions = ActionChains(driver)\n",
    "    output_pdf = f\"{folder}.pdf\"\n",
    "    c = None\n",
    "    contador = 0\n",
    "\n",
    "    while True:\n",
    "        filename = f\"{folder}/slide_{contador+1:02}.png\"\n",
    "        driver.save_screenshot(filename)\n",
    "        print(f\"✅ Capturado: {filename}\")\n",
    "\n",
    "        if contador > 0:\n",
    "            anterior = f\"{folder}/slide_{contador:02}.png\"\n",
    "            if imagens_sao_iguais(anterior, filename):\n",
    "                print(\"⚠️ Slide repetido detectado. Fim da apresentação.\")\n",
    "                os.remove(filename)\n",
    "                break\n",
    "\n",
    "        img = Image.open(filename).convert(\"RGB\")\n",
    "        img_width, img_height = img.size\n",
    "\n",
    "        if c is None:\n",
    "            c = canvas.Canvas(output_pdf, pagesize=(img_width, img_height))\n",
    "\n",
    "        c.drawImage(ImageReader(img), 0, 0, width=img_width, height=img_height)\n",
    "        c.showPage()\n",
    "        contador += 1\n",
    "\n",
    "        actions.send_keys(Keys.ARROW_RIGHT).perform()\n",
    "        time.sleep(1.5)\n",
    "\n",
    "    if c:\n",
    "        c.save()\n",
    "        print(f\"📄 PDF salvo com {contador} slides: '{output_pdf}'\")\n",
    "\n",
    "    # Deleta imagens PNG depois de salvar o PDF\n",
    "    for f in os.listdir(folder):\n",
    "        if f.endswith(\".png\"):\n",
    "            os.remove(os.path.join(folder, f))\n",
    "    os.rmdir(folder)\n",
    "\n",
    "driver.quit()\n"
   ]
  },
  {
   "cell_type": "code",
   "execution_count": null,
   "id": "e412bb8b-c391-4721-b045-2b85dbd8960b",
   "metadata": {},
   "outputs": [],
   "source": []
  }
 ],
 "metadata": {
  "kernelspec": {
   "display_name": "Python 3 (ipykernel)",
   "language": "python",
   "name": "python3"
  },
  "language_info": {
   "codemirror_mode": {
    "name": "ipython",
    "version": 3
   },
   "file_extension": ".py",
   "mimetype": "text/x-python",
   "name": "python",
   "nbconvert_exporter": "python",
   "pygments_lexer": "ipython3",
   "version": "3.10.12"
  }
 },
 "nbformat": 4,
 "nbformat_minor": 5
}
